{
 "cells": [
  {
   "cell_type": "code",
   "execution_count": 2,
   "id": "a4922edc",
   "metadata": {},
   "outputs": [
    {
     "name": "stderr",
     "output_type": "stream",
     "text": [
      "2025-05-07 16:31:55.858467: I tensorflow/core/util/port.cc:153] oneDNN custom operations are on. You may see slightly different numerical results due to floating-point round-off errors from different computation orders. To turn them off, set the environment variable `TF_ENABLE_ONEDNN_OPTS=0`.\n",
      "2025-05-07 16:31:55.865411: I external/local_xla/xla/tsl/cuda/cudart_stub.cc:32] Could not find cuda drivers on your machine, GPU will not be used.\n",
      "2025-05-07 16:31:55.918575: I external/local_xla/xla/tsl/cuda/cudart_stub.cc:32] Could not find cuda drivers on your machine, GPU will not be used.\n",
      "2025-05-07 16:31:55.965019: E external/local_xla/xla/stream_executor/cuda/cuda_fft.cc:467] Unable to register cuFFT factory: Attempting to register factory for plugin cuFFT when one has already been registered\n",
      "WARNING: All log messages before absl::InitializeLog() is called are written to STDERR\n",
      "E0000 00:00:1746631916.007825    9573 cuda_dnn.cc:8579] Unable to register cuDNN factory: Attempting to register factory for plugin cuDNN when one has already been registered\n",
      "E0000 00:00:1746631916.021142    9573 cuda_blas.cc:1407] Unable to register cuBLAS factory: Attempting to register factory for plugin cuBLAS when one has already been registered\n",
      "W0000 00:00:1746631916.106394    9573 computation_placer.cc:177] computation placer already registered. Please check linkage and avoid linking the same target more than once.\n",
      "W0000 00:00:1746631916.106416    9573 computation_placer.cc:177] computation placer already registered. Please check linkage and avoid linking the same target more than once.\n",
      "W0000 00:00:1746631916.106417    9573 computation_placer.cc:177] computation placer already registered. Please check linkage and avoid linking the same target more than once.\n",
      "W0000 00:00:1746631916.106418    9573 computation_placer.cc:177] computation placer already registered. Please check linkage and avoid linking the same target more than once.\n",
      "2025-05-07 16:31:56.116708: I tensorflow/core/platform/cpu_feature_guard.cc:210] This TensorFlow binary is optimized to use available CPU instructions in performance-critical operations.\n",
      "To enable the following instructions: AVX2 AVX_VNNI FMA, in other operations, rebuild TensorFlow with the appropriate compiler flags.\n"
     ]
    }
   ],
   "source": [
    "from sklearn.datasets import (\n",
    "    load_iris, load_wine,\n",
    "    load_digits, load_breast_cancer\n",
    ")\n",
    "import pandas as pd\n",
    "import os, sys\n",
    "import time\n",
    "import gc\n",
    "import tracemalloc\n",
    "# asumiendo que iris.ipynb está en notebooks/, y somJ/ en la carpeta superior:\n",
    "sys.path.insert(0, os.path.abspath(\"..\"))\n",
    "\n",
    "from somJ.k_fold import cross_val_som_metrics\n",
    "import somJ.config as config\n",
    "from sklearn.model_selection import train_test_split\n",
    "from sklearn.datasets import load_iris, load_wine, load_digits, load_breast_cancer\n",
    "from sklearn.datasets import fetch_openml, fetch_covtype, fetch_20newsgroups_vectorized\n",
    "from tensorflow.keras.datasets import fashion_mnist\n",
    "from sklearn.preprocessing import StandardScaler\n",
    "import pandas as pd\n",
    "from sklearn.datasets import load_digits, load_iris, fetch_20newsgroups_vectorized, make_swiss_roll, make_s_curve\n",
    "from tensorflow.keras.datasets import fashion_mnist, mnist, cifar10\n",
    "import numpy as np\n",
    "import pandas as pd\n",
    "from scipy.io import loadmat"
   ]
  },
  {
   "cell_type": "code",
   "execution_count": 3,
   "id": "207aa1ae",
   "metadata": {},
   "outputs": [],
   "source": [
    "def reduce_mem_usage(df):\n",
    "    for col in df.columns:\n",
    "        col_type = df[col].dtype\n",
    "        if col_type != object:\n",
    "            c_min = df[col].min()\n",
    "            c_max = df[col].max()\n",
    "            if str(col_type)[:3] == 'int':\n",
    "                if c_min >= -128 and c_max <= 127:\n",
    "                    df[col] = df[col].astype('int8')\n",
    "                elif c_min >= -32768 and c_max <= 32767:\n",
    "                    df[col] = df[col].astype('int16')\n",
    "                elif c_min >= -2147483648 and c_max <= 2147483647:\n",
    "                    df[col] = df[col].astype('int32')\n",
    "                else:\n",
    "                    df[col] = df[col].astype('int64')\n",
    "            else:\n",
    "                df[col] = df[col].astype('float32') \n",
    "    return df\n"
   ]
  },
  {
   "cell_type": "code",
   "execution_count": 4,
   "id": "9606682f",
   "metadata": {},
   "outputs": [],
   "source": [
    "\n",
    "def load_dataset(name):\n",
    "    if name == 'Iris':\n",
    "        data = load_iris()\n",
    "        X, y = data.data, data.target\n",
    "\n",
    "    elif name == 'Digits':\n",
    "        data = load_digits()\n",
    "        X, y = data.data, data.target\n",
    "\n",
    "    elif name == 'MNIST':\n",
    "        (X_train, y_train), _ = mnist.load_data()\n",
    "        X = X_train.reshape((X_train.shape[0], -1))\n",
    "        y = y_train\n",
    "\n",
    "    elif name == 'Fashion MNIST':\n",
    "        (X_train, y_train), _ = fashion_mnist.load_data()\n",
    "        X = X_train.reshape((X_train.shape[0], -1))\n",
    "        y = y_train\n",
    "\n",
    "    elif name == 'CIFAR-10':\n",
    "        (X_train, y_train), _ = cifar10.load_data()\n",
    "        X = X_train.reshape((X_train.shape[0], -1))\n",
    "        y = y_train.flatten()\n",
    "\n",
    "    elif name == 'Swiss Roll':\n",
    "        X, y = make_swiss_roll(n_samples=2000)\n",
    "        \n",
    "    elif name == 'S-curve':\n",
    "        X, y = make_s_curve(n_samples=2000)\n",
    "        \n",
    "    elif name == '20 Newsgroups':\n",
    "        news = fetch_20newsgroups_vectorized()\n",
    "        X, y = news.data.toarray(), news.target\n",
    "\n",
    "    elif name == 'COIL-20':\n",
    "        # Suponiendo que tienes el archivo coil-20.mat descargado en tu directorio\n",
    "        mat = loadmat('coil-20.mat')\n",
    "        X = mat['X']  # Ajustar si la clave es diferente\n",
    "        y = mat['y'].flatten()\n",
    "\n",
    "    else:\n",
    "        raise ValueError(f\"Dataset {name} no reconocido.\")\n",
    "\n",
    "    # Convertir a DataFrame para reducir memoria si es necesario\n",
    "    if not isinstance(X, pd.DataFrame):\n",
    "        X = pd.DataFrame(X)\n",
    "    X = reduce_mem_usage(X)\n",
    "    return X.values, y"
   ]
  },
  {
   "cell_type": "code",
   "execution_count": 5,
   "id": "b39c090a",
   "metadata": {},
   "outputs": [],
   "source": [
    "def evaluate(name,X,y,memory=False):\n",
    "    if memory: tracemalloc.start()  # Inicia medición de memoria\n",
    "    start = time.perf_counter()\n",
    "    metrics = cross_val_som_metrics(\n",
    "        X, y,\n",
    "        k=5,\n",
    "        method=\"random\",\n",
    "        update=\"batchmap\",\n",
    "        config=config,\n",
    "        random_state=42,\n",
    "        scale=True,\n",
    "        prog_bar=True\n",
    "    )\n",
    "    gc.collect()\n",
    "    end = time.perf_counter()\n",
    "    peak=0\n",
    "    if memory:\n",
    "        current, peak = tracemalloc.get_traced_memory()\n",
    "        tracemalloc.stop()\n",
    "    print(\n",
    "        f\"{name:15s} | \"\n",
    "        f\"Acc: {metrics['accuracy']:.2f}  | \"\n",
    "        f\"Prec: {metrics['precision']:.2f}  | \"\n",
    "        f\"Rec: {metrics['recall']:.2f}  | \"\n",
    "        f\"F1: {metrics['f1']:.2f}  | \"\n",
    "        f\"Time: {end - start:.2f}s  | \"\n",
    "        f\"Memory: {peak / 1024 / 1024:.2f} MB  | \"  # En MB\n",
    "        f\"Trustworthiness: {metrics['tw']:.2f}  | \"\n",
    "        f\"Correlation: {metrics['corr']:.2f}\"\n",
    "    )"
   ]
  },
  {
   "cell_type": "markdown",
   "id": "a62acd6d",
   "metadata": {},
   "source": [
    "Iris            | Acc: 0.99  | Prec: 0.99  | Rec: 0.99  | F1: 0.99  | Time: 0.15s  | Memory: 0.00 MB  | Trustworthiness: 0.00  | Correlation: 0.00\n",
    "Digits          | Acc: 0.75  | Prec: 0.76  | Rec: 0.75  | F1: 0.74  | Time: 0.56s  | Memory: 0.00 MB  | Trustworthiness: 0.00  | Correlation: 0.00\n",
    "MNIST           | Acc: 0.51  | Prec: 0.51  | Rec: 0.50  | F1: 0.48  | Time: 69.54s  | Memory: 0.00 MB  | Trustworthiness: 0.00  | Correlation: 0.00\n",
    "Fashion MNIST   | Acc: 0.58  | Prec: 0.59  | Rec: 0.58  | F1: 0.56  | Time: 73.47s  | Memory: 0.00 MB  | Trustworthiness: 0.00  | Correlation: 0.00"
   ]
  },
  {
   "cell_type": "code",
   "execution_count": 6,
   "id": "bb9d9d95",
   "metadata": {},
   "outputs": [
    {
     "name": "stderr",
     "output_type": "stream",
     "text": [
      "Entrenando SOM:   0%|                              | 0/50 [00:00<?, ?it/s, lr=0.00863, radius=0.294]\n",
      "Entrenando SOM:   0%|                              | 0/50 [00:00<?, ?it/s, lr=0.00863, radius=0.294]\n",
      "Entrenando SOM:   0%|                              | 0/50 [00:00<?, ?it/s, lr=0.00863, radius=0.294]\n",
      "Entrenando SOM:   0%|                              | 0/50 [00:00<?, ?it/s, lr=0.00863, radius=0.294]\n",
      "Entrenando SOM:   0%|                              | 0/50 [00:00<?, ?it/s, lr=0.00863, radius=0.294]\n"
     ]
    },
    {
     "name": "stdout",
     "output_type": "stream",
     "text": [
      "Iris            | Acc: 1.00  | Prec: 1.00  | Rec: 1.00  | F1: 1.00  | Time: 1.24s  | Memory: 0.00 MB  | Trustworthiness: 0.00  | Correlation: 0.00\n"
     ]
    },
    {
     "name": "stderr",
     "output_type": "stream",
     "text": [
      "Entrenando SOM:   0%|                              | 0/50 [00:02<?, ?it/s, lr=0.00863, radius=0.294]\n",
      "Entrenando SOM:   0%|                              | 0/50 [00:02<?, ?it/s, lr=0.00863, radius=0.294]\n",
      "Entrenando SOM:   0%|                              | 0/50 [00:02<?, ?it/s, lr=0.00863, radius=0.294]\n",
      "Entrenando SOM:   0%|                              | 0/50 [00:02<?, ?it/s, lr=0.00863, radius=0.294]\n",
      "Entrenando SOM:   0%|                              | 0/50 [00:02<?, ?it/s, lr=0.00863, radius=0.294]\n"
     ]
    },
    {
     "name": "stdout",
     "output_type": "stream",
     "text": [
      "Digits          | Acc: 0.97  | Prec: 0.97  | Rec: 0.97  | F1: 0.97  | Time: 14.47s  | Memory: 0.00 MB  | Trustworthiness: 0.00  | Correlation: 0.00\n"
     ]
    },
    {
     "name": "stderr",
     "output_type": "stream",
     "text": [
      "Entrenando SOM:   0%|                              | 0/50 [05:28<?, ?it/s, lr=0.00863, radius=0.294]\n",
      "Entrenando SOM:   0%|                              | 0/50 [05:33<?, ?it/s, lr=0.00863, radius=0.294]\n",
      "Entrenando SOM:   0%|                              | 0/50 [05:30<?, ?it/s, lr=0.00863, radius=0.294]\n",
      "Entrenando SOM:   0%|                              | 0/50 [05:36<?, ?it/s, lr=0.00863, radius=0.294]\n",
      "Entrenando SOM:   0%|                              | 0/50 [05:39<?, ?it/s, lr=0.00863, radius=0.294]\n"
     ]
    },
    {
     "name": "stdout",
     "output_type": "stream",
     "text": [
      "MNIST           | Acc: 0.86  | Prec: 0.86  | Rec: 0.86  | F1: 0.86  | Time: 1700.94s  | Memory: 0.00 MB  | Trustworthiness: 0.00  | Correlation: 0.00\n"
     ]
    },
    {
     "name": "stderr",
     "output_type": "stream",
     "text": [
      "Entrenando SOM:   0%|                              | 0/50 [06:00<?, ?it/s, lr=0.00863, radius=0.294]\n",
      "Entrenando SOM:   0%|                              | 0/50 [05:37<?, ?it/s, lr=0.00863, radius=0.294]\n",
      "Entrenando SOM:   0%|                              | 0/50 [05:56<?, ?it/s, lr=0.00863, radius=0.294]\n",
      "Entrenando SOM:   0%|                              | 0/50 [05:58<?, ?it/s, lr=0.00863, radius=0.294]\n",
      "Entrenando SOM:   0%|                              | 0/50 [06:03<?, ?it/s, lr=0.00863, radius=0.294]\n"
     ]
    },
    {
     "name": "stdout",
     "output_type": "stream",
     "text": [
      "Fashion MNIST   | Acc: 0.74  | Prec: 0.74  | Rec: 0.74  | F1: 0.74  | Time: 1811.95s  | Memory: 0.00 MB  | Trustworthiness: 0.00  | Correlation: 0.00\n"
     ]
    }
   ],
   "source": [
    "dataset_names = [\n",
    "    \"Iris\",\n",
    "    \"Digits\",\n",
    "    \"MNIST\",\n",
    "    \"Fashion MNIST\",\n",
    "    # \"20 Newsgroups\",\n",
    "    # \"COIL-20\",\n",
    "    # \"CIFAR-10\"\n",
    "]\n",
    "\n",
    "# Loop general: procesar y liberar cada dataset\n",
    "for name in dataset_names:\n",
    "    X, y = load_dataset(name)\n",
    "    # Escalado\n",
    "    scaler = StandardScaler()\n",
    "    X_scaled = scaler.fit_transform(X)\n",
    "\n",
    "    evaluate(name,X_scaled,y,False)\n",
    "    del X, y, X_scaled, scaler\n",
    "    gc.collect()"
   ]
  }
 ],
 "metadata": {
  "kernelspec": {
   "display_name": "tfg_env",
   "language": "python",
   "name": "python3"
  },
  "language_info": {
   "codemirror_mode": {
    "name": "ipython",
    "version": 3
   },
   "file_extension": ".py",
   "mimetype": "text/x-python",
   "name": "python",
   "nbconvert_exporter": "python",
   "pygments_lexer": "ipython3",
   "version": "3.10.16"
  }
 },
 "nbformat": 4,
 "nbformat_minor": 5
}
