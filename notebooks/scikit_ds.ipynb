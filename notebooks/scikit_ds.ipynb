{
 "cells": [
  {
   "cell_type": "code",
   "execution_count": 1,
   "id": "a4922edc",
   "metadata": {},
   "outputs": [
    {
     "name": "stdout",
     "output_type": "stream",
     "text": [
      "Iris            | Acc: 0.99  | Prec: 0.99  | Rec: 0.99  | F1: 0.99\n",
      "Wine            | Acc: 0.98  | Prec: 0.98  | Rec: 0.98  | F1: 0.98\n",
      "Digits          | Acc: 0.97  | Prec: 0.97  | Rec: 0.97  | F1: 0.97\n",
      "Breast Cancer   | Acc: 0.98  | Prec: 0.97  | Rec: 0.97  | F1: 0.97\n"
     ]
    }
   ],
   "source": [
    "from sklearn.datasets import (\n",
    "    load_iris, load_wine,\n",
    "    load_digits, load_breast_cancer\n",
    ")\n",
    "import pandas as pd\n",
    "import os, sys\n",
    "# asumiendo que iris.ipynb está en notebooks/, y somJ/ en la carpeta superior:\n",
    "sys.path.insert(0, os.path.abspath(\"..\"))\n",
    "\n",
    "from somJ.k_fold import cross_val_som_metrics\n",
    "import somJ.config as config\n",
    "\n",
    "datasets = {\n",
    "    'Iris':           load_iris(),\n",
    "    'Wine':           load_wine(),\n",
    "    'Digits':         load_digits(),\n",
    "    'Breast Cancer':  load_breast_cancer()\n",
    "}\n",
    "\n",
    "for name, ds in datasets.items():\n",
    "    X, y = ds.data, ds.target\n",
    "    metrics = cross_val_som_metrics(\n",
    "        X, y,\n",
    "        k=5,\n",
    "        method=\"pca\",\n",
    "        update=\"batchmap\",\n",
    "        config=config,\n",
    "        random_state=42,\n",
    "        scale=True\n",
    "    )\n",
    "    print(\n",
    "        f\"{name:15s} | \"\n",
    "        f\"Acc: {metrics['accuracy']:.2f}  | \"\n",
    "        f\"Prec: {metrics['precision']:.2f}  | \"\n",
    "        f\"Rec: {metrics['recall']:.2f}  | \"\n",
    "        f\"F1: {metrics['f1']:.2f}\"\n",
    "    )\n"
   ]
  }
 ],
 "metadata": {
  "kernelspec": {
   "display_name": "tfg_env",
   "language": "python",
   "name": "python3"
  },
  "language_info": {
   "codemirror_mode": {
    "name": "ipython",
    "version": 3
   },
   "file_extension": ".py",
   "mimetype": "text/x-python",
   "name": "python",
   "nbconvert_exporter": "python",
   "pygments_lexer": "ipython3",
   "version": "3.10.16"
  }
 },
 "nbformat": 4,
 "nbformat_minor": 5
}
